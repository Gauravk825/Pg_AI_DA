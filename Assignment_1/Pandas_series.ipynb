{
 "cells": [
  {
   "cell_type": "code",
   "execution_count": 1,
   "metadata": {},
   "outputs": [],
   "source": [
    "import numpy as np\n",
    "import pandas as pd"
   ]
  },
  {
   "cell_type": "code",
   "execution_count": 5,
   "metadata": {},
   "outputs": [
    {
     "data": {
      "text/plain": [
       "0       Ram\n",
       "1     Mohan\n",
       "2    Gaurav\n",
       "3    Mitali\n",
       "dtype: object"
      ]
     },
     "execution_count": 5,
     "metadata": {},
     "output_type": "execute_result"
    }
   ],
   "source": [
    "# Write a Pandas program to create and display a one-dimensional array-like object containing an array of data using Pandas module.\n",
    "\n",
    "ds = pd.Series(['Ram', 'Mohan', 'Gaurav', 'Mitali'])\n",
    "\n",
    "ds"
   ]
  },
  {
   "cell_type": "code",
   "execution_count": 19,
   "metadata": {},
   "outputs": [
    {
     "data": {
      "text/plain": [
       "list"
      ]
     },
     "execution_count": 19,
     "metadata": {},
     "output_type": "execute_result"
    }
   ],
   "source": [
    "# 2. Write a Pandas program to convert a Panda module Series to Python list and it's type.\n",
    "\n",
    "ds = pd.Series(['Ram', 'Mohan', 'Gaurav', 'Mitali'])\n",
    "\n",
    "lst = list(ds)\n",
    "type(lst)"
   ]
  },
  {
   "cell_type": "code",
   "execution_count": 17,
   "metadata": {},
   "outputs": [
    {
     "name": "stdout",
     "output_type": "stream",
     "text": [
      "Add s1 + s2:  0     3\n",
      "1     7\n",
      "2    11\n",
      "3    15\n",
      "4    19\n",
      "dtype: int64\n",
      "Subtract s1 - s2:  0    1\n",
      "1    1\n",
      "2    1\n",
      "3    1\n",
      "4    1\n",
      "dtype: int64\n",
      "Multiply s1 * s2:  0     2\n",
      "1    12\n",
      "2    30\n",
      "3    56\n",
      "4    90\n",
      "dtype: int64\n",
      "Divide s1 / s2:  0    2.000000\n",
      "1    1.333333\n",
      "2    1.200000\n",
      "3    1.142857\n",
      "4    1.111111\n",
      "dtype: float64\n"
     ]
    }
   ],
   "source": [
    "# Write a Pandas program to add, subtract, multiple and divide two Pandas Series.\n",
    "\n",
    "s1 = pd.Series ([2, 4, 6, 8, 10])\n",
    "s2 = pd.Series ([1, 3, 5, 7, 9])\n",
    "\n",
    "print(\"Add s1 + s2: \", s1 + s2)\n",
    "print(\"Subtract s1 - s2: \", s1 - s2)\n",
    "print(\"Multiply s1 * s2: \", s1 * s2)\n",
    "print(\"Divide s1 / s2: \", s1 / s2)"
   ]
  },
  {
   "cell_type": "code",
   "execution_count": 22,
   "metadata": {},
   "outputs": [
    {
     "name": "stdout",
     "output_type": "stream",
     "text": [
      "Compare s1 > s2: \n",
      " 0     True\n",
      "1     True\n",
      "2     True\n",
      "3     True\n",
      "4    False\n",
      "dtype: bool\n",
      "Compare s1 < s2: \n",
      " 0    False\n",
      "1    False\n",
      "2    False\n",
      "3    False\n",
      "4    False\n",
      "dtype: bool\n",
      "Compare s1 == s2: \n",
      " 0    False\n",
      "1    False\n",
      "2    False\n",
      "3    False\n",
      "4     True\n",
      "dtype: bool\n"
     ]
    }
   ],
   "source": [
    "# Write a Pandas program to compare the elements of the two Pandas Series.\n",
    "\n",
    "s1 = pd.Series ([2, 4, 6, 8, 10])\n",
    "s2 = pd.Series ([1, 3, 5, 7, 10])\n",
    "print(\"Compare s1 > s2: \\n\", s1 > s2)\n",
    "print(\"Compare s1 < s2: \\n\", s1 < s2)\n",
    "print(\"Compare s1 == s2: \\n\", s1 == s2)"
   ]
  },
  {
   "cell_type": "code",
   "execution_count": 24,
   "metadata": {},
   "outputs": [
    {
     "data": {
      "text/plain": [
       "a    100\n",
       "b    200\n",
       "c    300\n",
       "d    400\n",
       "e    800\n",
       "dtype: int64"
      ]
     },
     "execution_count": 24,
     "metadata": {},
     "output_type": "execute_result"
    }
   ],
   "source": [
    "# Write a Pandas program to convert a dictionary to a Pandas series.\n",
    "\n",
    "dict = {'a': 100, 'b': 200, 'c': 300, 'd': 400, 'e': 800}\n",
    "\n",
    "srs = pd.Series(dict)\n",
    "\n",
    "srs"
   ]
  },
  {
   "cell_type": "code",
   "execution_count": 25,
   "metadata": {},
   "outputs": [
    {
     "data": {
      "text/plain": [
       "0    10\n",
       "1    20\n",
       "2    30\n",
       "3    40\n",
       "4    50\n",
       "dtype: int32"
      ]
     },
     "execution_count": 25,
     "metadata": {},
     "output_type": "execute_result"
    }
   ],
   "source": [
    "# Write a Pandas program to convert a NumPy array to a Pandas series.\n",
    "\n",
    "arr = np.array([10, 20, 30, 40, 50])\n",
    "\n",
    "srs = pd.Series(arr)\n",
    "\n",
    "srs"
   ]
  },
  {
   "cell_type": "code",
   "execution_count": 32,
   "metadata": {},
   "outputs": [
    {
     "name": "stdout",
     "output_type": "stream",
     "text": [
      "0    100.00\n",
      "1    200.00\n",
      "2       NaN\n",
      "3    300.12\n",
      "4    400.00\n",
      "dtype: float64\n"
     ]
    }
   ],
   "source": [
    "# Write a Pandas program to change the data type of given a column or a Series.\n",
    "\n",
    "s1 = pd.Series ([100, 200, \"python\", 300.12, 400])\n",
    "print(s1.replace(\"python\", np.nan))"
   ]
  },
  {
   "cell_type": "code",
   "execution_count": 43,
   "metadata": {},
   "outputs": [
    {
     "data": {
      "text/plain": [
       "0     1\n",
       "1     2\n",
       "2     3\n",
       "3     4\n",
       "4     7\n",
       "5    11\n",
       "Name: col1, dtype: int64"
      ]
     },
     "execution_count": 43,
     "metadata": {},
     "output_type": "execute_result"
    }
   ],
   "source": [
    "# Write a Pandas program to convert the first column of a DataFrame as a Series.\n",
    "\n",
    "dict ={'col1' : [1, 2, 3, 4, 7, 11],\n",
    "'col2' : [4, 5, 6, 9, 5, 0],\n",
    "'col3' : [7, 5, 8, 12, 1, 11]}\n",
    "\n",
    "df = pd.DataFrame(data=dict)\n",
    "\n",
    "ser = pd.Series(df['col1'])\n",
    "ser"
   ]
  },
  {
   "cell_type": "code",
   "execution_count": 45,
   "metadata": {},
   "outputs": [
    {
     "name": "stdout",
     "output_type": "stream",
     "text": [
      " [100 200 'python' 300.12 400] <class 'numpy.ndarray'>\n"
     ]
    }
   ],
   "source": [
    "# Write a Pandas program to convert a given Series to an array.\n",
    "\n",
    "s1 = pd.Series ([100, 200, \"python\", 300.12, 400])\n",
    "\n",
    "arr = np.array(s1)\n",
    "\n",
    "print(f\" {arr} {type(arr)}\")"
   ]
  },
  {
   "cell_type": "code",
   "execution_count": 62,
   "metadata": {},
   "outputs": [
    {
     "name": "stdout",
     "output_type": "stream",
     "text": [
      "0    [Red, Green, White]\n",
      "1           [Red, Black]\n",
      "2               [Yellow]\n",
      "dtype: object\n",
      "0       Red\n",
      "1     Green\n",
      "2     White\n",
      "3       Red\n",
      "4     Black\n",
      "5    Yellow\n",
      "dtype: object\n"
     ]
    }
   ],
   "source": [
    "# Write a Pandas program to convert Series of lists to one Series.\n",
    "\n",
    "lst = [['Red', 'Green', 'White'],['Red', 'Black'],['Yellow']]\n",
    "\n",
    "s1 = pd.Series(lst)\n",
    "\n",
    "s2 = s1.apply(pd.Series).stack().reset_index(drop = True)\n",
    "\n",
    "print(f\"{s1}\\n{s2}\")"
   ]
  },
  {
   "cell_type": "code",
   "execution_count": 73,
   "metadata": {},
   "outputs": [
    {
     "name": "stdout",
     "output_type": "stream",
     "text": [
      "0       100\n",
      "1       200\n",
      "3    300.12\n",
      "4       400\n",
      "2    python\n",
      "dtype: object\n"
     ]
    }
   ],
   "source": [
    "# Write a Pandas program to sort a given Series.\n",
    "\n",
    "s1 = pd.Series ([\"100\", \"200\", \"python\", \"300.12\", \"400\"])\n",
    "\n",
    "s2 = s1.sort_values()\n",
    "\n",
    "print(s2)"
   ]
  },
  {
   "cell_type": "code",
   "execution_count": 88,
   "metadata": {},
   "outputs": [
    {
     "data": {
      "text/plain": [
       "0       100\n",
       "1       200\n",
       "2    python\n",
       "3    300.12\n",
       "4       400\n",
       "5       500\n",
       "6       php\n",
       "dtype: object"
      ]
     },
     "execution_count": 88,
     "metadata": {},
     "output_type": "execute_result"
    }
   ],
   "source": [
    "# Write a Pandas program to add some data to an existing Series.\n",
    "\n",
    "s1 = pd.Series ([\"100\", \"200\", \"python\", \"300.12\", \"400\"])\n",
    "s2 = pd.Series([500, \"php\"])\n",
    "s3 =pd.concat([s1, s2], ignore_index=True)\n",
    "s3"
   ]
  },
  {
   "cell_type": "code",
   "execution_count": 89,
   "metadata": {},
   "outputs": [
    {
     "data": {
      "text/plain": [
       "0    0\n",
       "1    1\n",
       "2    2\n",
       "3    3\n",
       "4    4\n",
       "5    5\n",
       "dtype: int64"
      ]
     },
     "execution_count": 89,
     "metadata": {},
     "output_type": "execute_result"
    }
   ],
   "source": [
    "# 12. Write a Pandas program to create a subset of a given series based on value and condition.\n",
    "\n",
    "s1 = pd.Series([0, 1, 2, 3, 4, 5, 6, 7, 8, 9, 10])\n",
    "\n",
    "s1[:6]"
   ]
  },
  {
   "cell_type": "code",
   "execution_count": 94,
   "metadata": {},
   "outputs": [
    {
     "data": {
      "text/plain": [
       "B    2\n",
       "A    1\n",
       "C    3\n",
       "D    4\n",
       "E    5\n",
       "dtype: int64"
      ]
     },
     "execution_count": 94,
     "metadata": {},
     "output_type": "execute_result"
    }
   ],
   "source": [
    "# Write a Pandas program to change the order of index of a given series.\n",
    "\n",
    "s1 = pd.Series([1, 2, 3, 4, 5], index= ['A', 'B', 'C', 'D', 'E'])\n",
    "\n",
    "s2 = s1.reindex(['B', 'A', 'C', 'D', 'E'])\n",
    "\n",
    "s2\n",
    "\n"
   ]
  },
  {
   "cell_type": "code",
   "execution_count": 100,
   "metadata": {},
   "outputs": [
    {
     "name": "stdout",
     "output_type": "stream",
     "text": [
      "Series s1 0     1\n",
      "1     2\n",
      "2     3\n",
      "3     4\n",
      "4     5\n",
      "5     6\n",
      "6     7\n",
      "7     8\n",
      "8     9\n",
      "9     5\n",
      "10    3\n",
      "dtype: int64 \n",
      "Mean 4.818181818181818 \n",
      "Standard Deviation 2.522624895547565\n"
     ]
    }
   ],
   "source": [
    "# Write a Pandas program to create the mean and standard deviation of the data of a given Series.\n",
    "\n",
    "s1 = pd.Series([1, 2, 3, 4, 5, 6, 7, 8, 9, 5, 3])\n",
    "print(f\"Series s1 {s1} \\nMean {s1.mean()} \\nStandard Deviation {s1.std()}\")"
   ]
  },
  {
   "cell_type": "code",
   "execution_count": 6,
   "metadata": {},
   "outputs": [
    {
     "data": {
      "text/plain": [
       "0    1\n",
       "2    3\n",
       "4    5\n",
       "dtype: int64"
      ]
     },
     "execution_count": 6,
     "metadata": {},
     "output_type": "execute_result"
    }
   ],
   "source": [
    "# Write a Pandas program to get the items of a given series not present in another given series.\n",
    "\n",
    "s1 = pd.Series ([1, 2, 3, 4, 5])\n",
    "s2 = pd.Series ([2, 4, 6, 8, 10])\n",
    "\n",
    "s3 = s1[~s1.isin(s2)]\n",
    "s3"
   ]
  },
  {
   "cell_type": "code",
   "execution_count": 8,
   "metadata": {},
   "outputs": [
    {
     "data": {
      "text/plain": [
       "0     1\n",
       "2     3\n",
       "4     5\n",
       "5     6\n",
       "6     8\n",
       "7    10\n",
       "dtype: int64"
      ]
     },
     "execution_count": 8,
     "metadata": {},
     "output_type": "execute_result"
    }
   ],
   "source": [
    "# Write a Pandas program to get the items which are not common of two given series.\n",
    "\n",
    "s1 = pd.Series ([1, 2, 3, 4, 5])\n",
    "s2 = pd.Series ([2, 4, 6, 8, 10])\n",
    "\n",
    "un = pd.Series(np.union1d(s1, s2)) \n",
    "  \n",
    "\n",
    "intersec = pd.Series(np.intersect1d(s1, s2)) \n",
    "  \n",
    " \n",
    "nc = un[~un.isin(intersec)] \n",
    "nc"
   ]
  },
  {
   "cell_type": "code",
   "execution_count": 13,
   "metadata": {},
   "outputs": [
    {
     "name": "stdout",
     "output_type": "stream",
     "text": [
      "Original Series:\n",
      "0      3.000938\n",
      "1     11.370722\n",
      "2     14.612143\n",
      "3      8.990256\n",
      "4     13.925283\n",
      "5     12.056875\n",
      "6     10.884719\n",
      "7      5.719827\n",
      "8      9.242017\n",
      "9     11.020006\n",
      "10     8.167892\n",
      "11    11.740654\n",
      "12     7.665620\n",
      "13    13.267388\n",
      "14    12.690883\n",
      "15     9.582355\n",
      "16     7.874878\n",
      "17    14.118931\n",
      "18     8.247458\n",
      "19     5.526727\n",
      "dtype: float64\n",
      "Percentile :  [ 3.00093811  8.09463867 10.23353705 12.21537733 14.61214321]\n"
     ]
    }
   ],
   "source": [
    "# Write a Pandas program to compute the minimum, 25th percentile, median, 75th, and maximum of a given series.\n",
    "\n",
    "s1 = np.random.RandomState(100)\n",
    "s2 = pd.Series(s1.normal(10, 4, 20))\n",
    "print(\"Original Series:\")\n",
    "print(s2)\n",
    "s3 = np.percentile(s2, q=[0, 25, 50, 75, 100])\n",
    "\n",
    "print(\"Percentile : \" , s3)"
   ]
  },
  {
   "cell_type": "code",
   "execution_count": 17,
   "metadata": {},
   "outputs": [
    {
     "data": {
      "text/plain": [
       "0    8\n",
       "1    6\n",
       "8    5\n",
       "9    4\n",
       "3    4\n",
       "5    4\n",
       "4    4\n",
       "7    2\n",
       "2    2\n",
       "6    1\n",
       "Name: count, dtype: int64"
      ]
     },
     "execution_count": 17,
     "metadata": {},
     "output_type": "execute_result"
    }
   ],
   "source": [
    "# Write a Pandas program to calculate the frequency counts of each unique value of a given series.\n",
    "\n",
    "s1 = np.random.randint(10, size=40)\n",
    "s2 = pd.Series(s1)\n",
    "s2.value_counts()"
   ]
  },
  {
   "cell_type": "code",
   "execution_count": 68,
   "metadata": {},
   "outputs": [
    {
     "name": "stdout",
     "output_type": "stream",
     "text": [
      "8    3\n",
      "3    3\n",
      "1    2\n",
      "5    2\n",
      "9    1\n",
      "6    1\n",
      "2    1\n",
      "0    1\n",
      "Name: count, dtype: int64\n"
     ]
    },
    {
     "ename": "KeyError",
     "evalue": "\"['others'] not in index\"",
     "output_type": "error",
     "traceback": [
      "\u001b[1;31m---------------------------------------------------------------------------\u001b[0m",
      "\u001b[1;31mKeyError\u001b[0m                                  Traceback (most recent call last)",
      "Cell \u001b[1;32mIn[68], line 11\u001b[0m\n\u001b[0;32m      8\u001b[0m maxn \u001b[38;5;241m=\u001b[39m v_count\u001b[38;5;241m.\u001b[39mmax()\n\u001b[0;32m      9\u001b[0m \u001b[38;5;28mprint\u001b[39m(v_count)\n\u001b[1;32m---> 11\u001b[0m s2[s2\u001b[38;5;241m.\u001b[39mapply(\u001b[38;5;28;01mlambda\u001b[39;00m x: x \u001b[38;5;28;01mif\u001b[39;00m x \u001b[38;5;241m!=\u001b[39m maxn \u001b[38;5;28;01melse\u001b[39;00m \u001b[38;5;124m\"\u001b[39m\u001b[38;5;124mothers\u001b[39m\u001b[38;5;124m\"\u001b[39m)]\n\u001b[0;32m     13\u001b[0m \u001b[38;5;28mprint\u001b[39m(v_count)\n",
      "File \u001b[1;32mc:\\Users\\Administrator.DAI-PC2\\anaconda3\\Lib\\site-packages\\pandas\\core\\series.py:1072\u001b[0m, in \u001b[0;36mSeries.__getitem__\u001b[1;34m(self, key)\u001b[0m\n\u001b[0;32m   1069\u001b[0m     key \u001b[38;5;241m=\u001b[39m np\u001b[38;5;241m.\u001b[39masarray(key, dtype\u001b[38;5;241m=\u001b[39m\u001b[38;5;28mbool\u001b[39m)\n\u001b[0;32m   1070\u001b[0m     \u001b[38;5;28;01mreturn\u001b[39;00m \u001b[38;5;28mself\u001b[39m\u001b[38;5;241m.\u001b[39m_get_rows_with_mask(key)\n\u001b[1;32m-> 1072\u001b[0m \u001b[38;5;28;01mreturn\u001b[39;00m \u001b[38;5;28mself\u001b[39m\u001b[38;5;241m.\u001b[39m_get_with(key)\n",
      "File \u001b[1;32mc:\\Users\\Administrator.DAI-PC2\\anaconda3\\Lib\\site-packages\\pandas\\core\\series.py:1113\u001b[0m, in \u001b[0;36mSeries._get_with\u001b[1;34m(self, key)\u001b[0m\n\u001b[0;32m   1110\u001b[0m         \u001b[38;5;28;01mreturn\u001b[39;00m \u001b[38;5;28mself\u001b[39m\u001b[38;5;241m.\u001b[39miloc[key]\n\u001b[0;32m   1112\u001b[0m \u001b[38;5;66;03m# handle the dup indexing case GH#4246\u001b[39;00m\n\u001b[1;32m-> 1113\u001b[0m \u001b[38;5;28;01mreturn\u001b[39;00m \u001b[38;5;28mself\u001b[39m\u001b[38;5;241m.\u001b[39mloc[key]\n",
      "File \u001b[1;32mc:\\Users\\Administrator.DAI-PC2\\anaconda3\\Lib\\site-packages\\pandas\\core\\indexing.py:1153\u001b[0m, in \u001b[0;36m_LocationIndexer.__getitem__\u001b[1;34m(self, key)\u001b[0m\n\u001b[0;32m   1150\u001b[0m axis \u001b[38;5;241m=\u001b[39m \u001b[38;5;28mself\u001b[39m\u001b[38;5;241m.\u001b[39maxis \u001b[38;5;129;01mor\u001b[39;00m \u001b[38;5;241m0\u001b[39m\n\u001b[0;32m   1152\u001b[0m maybe_callable \u001b[38;5;241m=\u001b[39m com\u001b[38;5;241m.\u001b[39mapply_if_callable(key, \u001b[38;5;28mself\u001b[39m\u001b[38;5;241m.\u001b[39mobj)\n\u001b[1;32m-> 1153\u001b[0m \u001b[38;5;28;01mreturn\u001b[39;00m \u001b[38;5;28mself\u001b[39m\u001b[38;5;241m.\u001b[39m_getitem_axis(maybe_callable, axis\u001b[38;5;241m=\u001b[39maxis)\n",
      "File \u001b[1;32mc:\\Users\\Administrator.DAI-PC2\\anaconda3\\Lib\\site-packages\\pandas\\core\\indexing.py:1382\u001b[0m, in \u001b[0;36m_LocIndexer._getitem_axis\u001b[1;34m(self, key, axis)\u001b[0m\n\u001b[0;32m   1379\u001b[0m     \u001b[38;5;28;01mif\u001b[39;00m \u001b[38;5;28mhasattr\u001b[39m(key, \u001b[38;5;124m\"\u001b[39m\u001b[38;5;124mndim\u001b[39m\u001b[38;5;124m\"\u001b[39m) \u001b[38;5;129;01mand\u001b[39;00m key\u001b[38;5;241m.\u001b[39mndim \u001b[38;5;241m>\u001b[39m \u001b[38;5;241m1\u001b[39m:\n\u001b[0;32m   1380\u001b[0m         \u001b[38;5;28;01mraise\u001b[39;00m \u001b[38;5;167;01mValueError\u001b[39;00m(\u001b[38;5;124m\"\u001b[39m\u001b[38;5;124mCannot index with multidimensional key\u001b[39m\u001b[38;5;124m\"\u001b[39m)\n\u001b[1;32m-> 1382\u001b[0m     \u001b[38;5;28;01mreturn\u001b[39;00m \u001b[38;5;28mself\u001b[39m\u001b[38;5;241m.\u001b[39m_getitem_iterable(key, axis\u001b[38;5;241m=\u001b[39maxis)\n\u001b[0;32m   1384\u001b[0m \u001b[38;5;66;03m# nested tuple slicing\u001b[39;00m\n\u001b[0;32m   1385\u001b[0m \u001b[38;5;28;01mif\u001b[39;00m is_nested_tuple(key, labels):\n",
      "File \u001b[1;32mc:\\Users\\Administrator.DAI-PC2\\anaconda3\\Lib\\site-packages\\pandas\\core\\indexing.py:1322\u001b[0m, in \u001b[0;36m_LocIndexer._getitem_iterable\u001b[1;34m(self, key, axis)\u001b[0m\n\u001b[0;32m   1319\u001b[0m \u001b[38;5;28mself\u001b[39m\u001b[38;5;241m.\u001b[39m_validate_key(key, axis)\n\u001b[0;32m   1321\u001b[0m \u001b[38;5;66;03m# A collection of keys\u001b[39;00m\n\u001b[1;32m-> 1322\u001b[0m keyarr, indexer \u001b[38;5;241m=\u001b[39m \u001b[38;5;28mself\u001b[39m\u001b[38;5;241m.\u001b[39m_get_listlike_indexer(key, axis)\n\u001b[0;32m   1323\u001b[0m \u001b[38;5;28;01mreturn\u001b[39;00m \u001b[38;5;28mself\u001b[39m\u001b[38;5;241m.\u001b[39mobj\u001b[38;5;241m.\u001b[39m_reindex_with_indexers(\n\u001b[0;32m   1324\u001b[0m     {axis: [keyarr, indexer]}, copy\u001b[38;5;241m=\u001b[39m\u001b[38;5;28;01mTrue\u001b[39;00m, allow_dups\u001b[38;5;241m=\u001b[39m\u001b[38;5;28;01mTrue\u001b[39;00m\n\u001b[0;32m   1325\u001b[0m )\n",
      "File \u001b[1;32mc:\\Users\\Administrator.DAI-PC2\\anaconda3\\Lib\\site-packages\\pandas\\core\\indexing.py:1520\u001b[0m, in \u001b[0;36m_LocIndexer._get_listlike_indexer\u001b[1;34m(self, key, axis)\u001b[0m\n\u001b[0;32m   1517\u001b[0m ax \u001b[38;5;241m=\u001b[39m \u001b[38;5;28mself\u001b[39m\u001b[38;5;241m.\u001b[39mobj\u001b[38;5;241m.\u001b[39m_get_axis(axis)\n\u001b[0;32m   1518\u001b[0m axis_name \u001b[38;5;241m=\u001b[39m \u001b[38;5;28mself\u001b[39m\u001b[38;5;241m.\u001b[39mobj\u001b[38;5;241m.\u001b[39m_get_axis_name(axis)\n\u001b[1;32m-> 1520\u001b[0m keyarr, indexer \u001b[38;5;241m=\u001b[39m ax\u001b[38;5;241m.\u001b[39m_get_indexer_strict(key, axis_name)\n\u001b[0;32m   1522\u001b[0m \u001b[38;5;28;01mreturn\u001b[39;00m keyarr, indexer\n",
      "File \u001b[1;32mc:\\Users\\Administrator.DAI-PC2\\anaconda3\\Lib\\site-packages\\pandas\\core\\indexes\\base.py:6115\u001b[0m, in \u001b[0;36mIndex._get_indexer_strict\u001b[1;34m(self, key, axis_name)\u001b[0m\n\u001b[0;32m   6112\u001b[0m \u001b[38;5;28;01melse\u001b[39;00m:\n\u001b[0;32m   6113\u001b[0m     keyarr, indexer, new_indexer \u001b[38;5;241m=\u001b[39m \u001b[38;5;28mself\u001b[39m\u001b[38;5;241m.\u001b[39m_reindex_non_unique(keyarr)\n\u001b[1;32m-> 6115\u001b[0m \u001b[38;5;28mself\u001b[39m\u001b[38;5;241m.\u001b[39m_raise_if_missing(keyarr, indexer, axis_name)\n\u001b[0;32m   6117\u001b[0m keyarr \u001b[38;5;241m=\u001b[39m \u001b[38;5;28mself\u001b[39m\u001b[38;5;241m.\u001b[39mtake(indexer)\n\u001b[0;32m   6118\u001b[0m \u001b[38;5;28;01mif\u001b[39;00m \u001b[38;5;28misinstance\u001b[39m(key, Index):\n\u001b[0;32m   6119\u001b[0m     \u001b[38;5;66;03m# GH 42790 - Preserve name from an Index\u001b[39;00m\n",
      "File \u001b[1;32mc:\\Users\\Administrator.DAI-PC2\\anaconda3\\Lib\\site-packages\\pandas\\core\\indexes\\base.py:6179\u001b[0m, in \u001b[0;36mIndex._raise_if_missing\u001b[1;34m(self, key, indexer, axis_name)\u001b[0m\n\u001b[0;32m   6176\u001b[0m     \u001b[38;5;28;01mraise\u001b[39;00m \u001b[38;5;167;01mKeyError\u001b[39;00m(\u001b[38;5;124mf\u001b[39m\u001b[38;5;124m\"\u001b[39m\u001b[38;5;124mNone of [\u001b[39m\u001b[38;5;132;01m{\u001b[39;00mkey\u001b[38;5;132;01m}\u001b[39;00m\u001b[38;5;124m] are in the [\u001b[39m\u001b[38;5;132;01m{\u001b[39;00maxis_name\u001b[38;5;132;01m}\u001b[39;00m\u001b[38;5;124m]\u001b[39m\u001b[38;5;124m\"\u001b[39m)\n\u001b[0;32m   6178\u001b[0m not_found \u001b[38;5;241m=\u001b[39m \u001b[38;5;28mlist\u001b[39m(ensure_index(key)[missing_mask\u001b[38;5;241m.\u001b[39mnonzero()[\u001b[38;5;241m0\u001b[39m]]\u001b[38;5;241m.\u001b[39munique())\n\u001b[1;32m-> 6179\u001b[0m \u001b[38;5;28;01mraise\u001b[39;00m \u001b[38;5;167;01mKeyError\u001b[39;00m(\u001b[38;5;124mf\u001b[39m\u001b[38;5;124m\"\u001b[39m\u001b[38;5;132;01m{\u001b[39;00mnot_found\u001b[38;5;132;01m}\u001b[39;00m\u001b[38;5;124m not in index\u001b[39m\u001b[38;5;124m\"\u001b[39m)\n",
      "\u001b[1;31mKeyError\u001b[0m: \"['others'] not in index\""
     ]
    }
   ],
   "source": [
    "# Write a Pandas program to display most frequent value in a given series and replace everything else as 'Other' in the series.\n",
    "\n",
    "s1 = np.random.randint(10, size=14)\n",
    "s2 = pd.Series(s1)\n",
    "#print(s2)\n",
    "#n = 2\n",
    "v_count = s2.value_counts()\n",
    "maxn = v_count.max()\n",
    "print(v_count)\n",
    "\n",
    "s2[s2.apply(lambda x: x if x != maxn else \"others\")]\n",
    "\n",
    "print(v_count)"
   ]
  },
  {
   "cell_type": "code",
   "execution_count": 82,
   "metadata": {},
   "outputs": [
    {
     "name": "stdout",
     "output_type": "stream",
     "text": [
      "Original Series:\n",
      "0     3\n",
      "1     3\n",
      "2     1\n",
      "3     3\n",
      "4     2\n",
      "5     4\n",
      "6     2\n",
      "7     1\n",
      "8     3\n",
      "9     4\n",
      "10    2\n",
      "11    1\n",
      "12    1\n",
      "13    2\n",
      "14    4\n",
      "dtype: int32\n",
      "Top 2 Freq: 3    4\n",
      "1    4\n",
      "2    4\n",
      "4    3\n",
      "Name: count, dtype: int64\n",
      "0         3\n",
      "1         3\n",
      "2     Other\n",
      "3         3\n",
      "4     Other\n",
      "5     Other\n",
      "6     Other\n",
      "7     Other\n",
      "8         3\n",
      "9     Other\n",
      "10    Other\n",
      "11    Other\n",
      "12    Other\n",
      "13    Other\n",
      "14    Other\n",
      "dtype: object\n"
     ]
    },
    {
     "name": "stderr",
     "output_type": "stream",
     "text": [
      "C:\\Users\\Administrator.DAI-PC2\\AppData\\Local\\Temp\\ipykernel_20576\\1718231610.py:5: FutureWarning: Setting an item of incompatible dtype is deprecated and will raise in a future error of pandas. Value 'Other' has dtype incompatible with int32, please explicitly cast to a compatible dtype first.\n",
      "  num_series[~num_series.isin(num_series.value_counts().index[:1])] = 'Other'\n"
     ]
    }
   ],
   "source": [
    "num_series = pd.Series(np.random.randint(1, 5, [15]))\n",
    "print(\"Original Series:\")\n",
    "print(num_series)\n",
    "print(\"Top 2 Freq:\", num_series.value_counts())\n",
    "num_series[~num_series.isin(num_series.value_counts().index[:1])] = 'Other'\n",
    "print(num_series)"
   ]
  },
  {
   "cell_type": "code",
   "execution_count": 105,
   "metadata": {},
   "outputs": [
    {
     "name": "stdout",
     "output_type": "stream",
     "text": [
      "0     12\n",
      "1      8\n",
      "2      5\n",
      "3     30\n",
      "4     12\n",
      "5     18\n",
      "6      6\n",
      "7     38\n",
      "8     13\n",
      "9     18\n",
      "10    32\n",
      "11    45\n",
      "12    28\n",
      "13     5\n",
      "14    24\n",
      "dtype: int32\n",
      "positin of Number multiple if 5 \n",
      " Index([2, 3, 11, 13], dtype='int64')\n"
     ]
    }
   ],
   "source": [
    "# Write a Pandas program to find the positions of numbers that are multiples of 5 of a given series.\n",
    "num_series = pd.Series(np.random.randint(1, 50, [15]))\n",
    "print(num_series)\n",
    "lst = num_series.loc[lambda x : x%5 ==0]\n",
    "print(\"positin of Number multiple if 5 \\n\",lst.index)\n"
   ]
  },
  {
   "cell_type": "code",
   "execution_count": 117,
   "metadata": {},
   "outputs": [
    {
     "data": {
      "text/plain": [
       "0       PhP\n",
       "1    PythoN\n",
       "2      JavA\n",
       "3        C#\n",
       "dtype: object"
      ]
     },
     "execution_count": 117,
     "metadata": {},
     "output_type": "execute_result"
    }
   ],
   "source": [
    "#Write a Pandas program convert the first and last character of each word to upper case in each word of a given series.\n",
    "\n",
    "lst = ['php',\n",
    "'python',\n",
    "'java',\n",
    "'c#']\n",
    "s1 = pd.Series(lst)\n",
    "s1.apply(lambda x : x[:1].upper() + x[1:-1] + x[-1].upper())"
   ]
  },
  {
   "cell_type": "code",
   "execution_count": 121,
   "metadata": {},
   "outputs": [
    {
     "data": {
      "text/plain": [
       "0    3\n",
       "1    6\n",
       "2    4\n",
       "3    2\n",
       "dtype: int64"
      ]
     },
     "execution_count": 121,
     "metadata": {},
     "output_type": "execute_result"
    }
   ],
   "source": [
    "# 25. Write a Pandas program to calculate the number of characters in each word in a given series.\n",
    "lst = ['php',\n",
    "'python',\n",
    "'java',\n",
    "'c#']\n",
    "s1 = pd.Series(lst)\n",
    "s1.apply(lambda x : len(x))"
   ]
  },
  {
   "cell_type": "code",
   "execution_count": 126,
   "metadata": {},
   "outputs": [
    {
     "name": "stdout",
     "output_type": "stream",
     "text": [
      "[nan, nan, 10.0, 14.0, -34.0, -10.0, 32.0, -11.0, 7.0, -24.0, 51.0, -51.0, 15.0, 4.0, 27.0]\n"
     ]
    }
   ],
   "source": [
    "# Write a Pandas program to compute difference of differences between consecutive numbers of a given series.\n",
    "num_series = pd.Series(np.random.randint(1, 50, [15]))\n",
    "\n",
    "print(num_series.diff().diff().tolist())"
   ]
  },
  {
   "cell_type": "code",
   "execution_count": 133,
   "metadata": {},
   "outputs": [
    {
     "data": {
      "text/plain": [
       "0   2015-01-01 00:00:00\n",
       "1   2016-10-02 00:00:00\n",
       "2   2018-03-07 00:00:00\n",
       "3   2014-05-06 00:00:00\n",
       "4   2016-04-12 00:00:00\n",
       "5   2019-04-06 11:20:00\n",
       "dtype: datetime64[ns]"
      ]
     },
     "execution_count": 133,
     "metadata": {},
     "output_type": "execute_result"
    }
   ],
   "source": [
    "# Write a Pandas program to convert a series of date strings to a timeseries.\n",
    "from datetime import datetime\n",
    "\n",
    "lst =  ['01 Jan 2015',\n",
    "'10-02-2016',\n",
    "'20180307',\n",
    "'2014/05/06',\n",
    "'2016-04-12',\n",
    "'2019-04-06T11:20']\n",
    "\n",
    "s1 = pd.Series(lst)\n",
    "s1.apply(lambda x : pd.to_datetime(x ))"
   ]
  },
  {
   "cell_type": "code",
   "execution_count": 159,
   "metadata": {},
   "outputs": [],
   "source": [
    "# Write a Pandas program to get the day of month, day of year, week number and day of week from a given series of date strings.\n",
    "\n",
    "lst =  ['01 Jan 2015',\n",
    "'10-02-2016',\n",
    "'20180307',\n",
    "'2014/05/06',\n",
    "'2016-04-12',\n",
    "'2019-04-06T11:20']\n",
    "\n",
    "s1 = pd.Series(lst)\n",
    "s1 = s1.apply(lambda x : pd.to_datetime(x ))\n"
   ]
  },
  {
   "cell_type": "code",
   "execution_count": 168,
   "metadata": {},
   "outputs": [
    {
     "name": "stdout",
     "output_type": "stream",
     "text": [
      " Day of the month : \n",
      "  [31, 31, 31, 31, 30, 30]\n",
      " Day of the year : \n",
      "  [1, 276, 66, 126, 103, 96]\n",
      " Week numbers  : \n",
      "  [3, 6, 2, 1, 1, 5]\n",
      " Day Week : \n",
      " :  ['Thursday', 'Sunday', 'Wednesday', 'Tuesday', 'Tuesday', 'Saturday']\n"
     ]
    }
   ],
   "source": [
    "print(\" Day of the month : \\n \", list(s1.dt.daysinmonth ))\n",
    "#print())\n",
    "print(\" Day of the year : \\n \", list(s1.dt.dayofyear )  )\n",
    "print(\" Week numbers  : \\n \",list(s1.dt.dayofweek) )\n",
    "print(\" Day Week : \\n : \", list(s1.dt.day_name()))"
   ]
  },
  {
   "cell_type": "code",
   "execution_count": 177,
   "metadata": {},
   "outputs": [
    {
     "name": "stdout",
     "output_type": "stream",
     "text": [
      "0   2015-01-11\n",
      "1   2016-02-11\n",
      "2   2017-03-11\n",
      "3   2018-04-11\n",
      "4   2019-05-11\n",
      "dtype: datetime64[ns]\n"
     ]
    }
   ],
   "source": [
    "# 29. Write a Pandas program to convert year-month string to dates adding a specified day of the month.\n",
    "from datetime import datetime\n",
    "from dateutil.parser import parse\n",
    "\n",
    "lst = ['Jan 2015',\n",
    "'Feb 2016',\n",
    "'Mar 2017',\n",
    "'Apr 2018',\n",
    "'May 2019']\n",
    "\n",
    "s1 = pd.Series(lst)\n",
    "result  = s1.apply(lambda x : parse('11' + x))\n",
    "print(result)\n"
   ]
  },
  {
   "cell_type": "code",
   "execution_count": 16,
   "metadata": {},
   "outputs": [
    {
     "name": "stdout",
     "output_type": "stream",
     "text": [
      "1     Green\n",
      "2    Orange\n",
      "4    Yellow\n",
      "5     White\n",
      "dtype: object\n"
     ]
    }
   ],
   "source": [
    "# 30. Write a Pandas program to filter words from a given series that contain atleast two vowels.\n",
    "from collections import Counter\n",
    "\n",
    "\n",
    "lst = ['Red',\n",
    "'Green',\n",
    "'Orange',\n",
    "'Pink',\n",
    "'Yellow',\n",
    "'White']\n",
    "\n",
    "lst1 = ['a','e','i', 'o', 'u','A', 'I', 'E', 'O', 'U']\n",
    "\n",
    "s1 = pd.Series(lst)\n",
    "res = s1.map(lambda x : sum(Counter(x).get(i,0) for i in lst1) >=2)\n",
    "print(s1[res])\n"
   ]
  },
  {
   "cell_type": "code",
   "execution_count": 41,
   "metadata": {},
   "outputs": [
    {
     "name": "stdout",
     "output_type": "stream",
     "text": [
      "0     1\n",
      "1     2\n",
      "2     3\n",
      "3     4\n",
      "4     5\n",
      "5     6\n",
      "6     7\n",
      "7     8\n",
      "8     9\n",
      "9    10\n",
      "dtype: int32\n",
      "0    10\n",
      "1     9\n",
      "2     8\n",
      "3     7\n",
      "4     6\n",
      "5     5\n",
      "6     4\n",
      "7     3\n",
      "8     2\n",
      "9     1\n",
      "dtype: int32\n",
      "18.16590212458495\n"
     ]
    }
   ],
   "source": [
    "'''31. Write a Pandas program to compute the Euclidean distance between two given series.\n",
    "Euclidean distance\n",
    "From Wikipedia,\n",
    "In mathematics, the Euclidean distance or Euclidean metric is the \"ordinary\" straight-line\n",
    "distance between two points in Euclidean space. With this distance, Euclidean space\n",
    "becomes a metric space. The associated norm is called the Euclidean norm. ''' \n",
    "\n",
    "\n",
    "from math import sqrt\n",
    "\n",
    "\n",
    "arr = np.arange(1,11)\n",
    "s1 = pd.Series(arr)\n",
    "arr2 = arr[::-1]\n",
    "s2 = pd.Series(arr2)\n",
    "print(s1)\n",
    "print(s2)\n",
    "dist = np.sqrt(np.sum([(a-b)*(a-b) for a, b in zip(s1, s2)])) \n",
    "print(dist)"
   ]
  },
  {
   "cell_type": "code",
   "execution_count": 66,
   "metadata": {},
   "outputs": [
    {
     "name": "stdout",
     "output_type": "stream",
     "text": [
      "0     32\n",
      "1     40\n",
      "2      1\n",
      "3     38\n",
      "4     11\n",
      "5     47\n",
      "6     34\n",
      "7     47\n",
      "8     10\n",
      "9     10\n",
      "10    38\n",
      "11    20\n",
      "12    41\n",
      "13    28\n",
      "14    21\n",
      "dtype: int32\n",
      "\n",
      "Positions of the values surrounded by smaller values on both sides:\n",
      "[ 1  3  5  7 10 12]\n"
     ]
    }
   ],
   "source": [
    "# Write a Pandas program to find the positions of the values neighboured by smaller values on both sides in a given series.\n",
    "\n",
    "num_series = pd.Series(np.random.randint(1, 50, [15]))\n",
    "print(num_series)\n",
    "temp = np.diff(np.sign(np.diff(num_series)))\n",
    "print(\"\\nPositions of the values surrounded by smaller values on both sides:\")\n",
    "result = np.where(temp == -2)[0] + 1\n",
    "print(result)"
   ]
  },
  {
   "cell_type": "code",
   "execution_count": 102,
   "metadata": {},
   "outputs": [
    {
     "name": "stdout",
     "output_type": "stream",
     "text": [
      "0     a\n",
      "1     b\n",
      "2     c\n",
      "3      \n",
      "4     d\n",
      "5     e\n",
      "6     f\n",
      "7      \n",
      "8     a\n",
      "9     b\n",
      "10    c\n",
      "11    d\n",
      "12    e\n",
      "13    f\n",
      "14     \n",
      "15    i\n",
      "16    c\n",
      "17    d\n",
      "dtype: object\n",
      "c    3\n",
      "     3\n",
      "d    3\n",
      "a    2\n",
      "b    2\n",
      "e    2\n",
      "f    2\n",
      "i    1\n",
      "Name: count, dtype: int64\n"
     ]
    },
    {
     "data": {
      "text/plain": [
       "0     a\n",
       "1     b\n",
       "2     c\n",
       "3     i\n",
       "4     d\n",
       "5     e\n",
       "6     f\n",
       "7     i\n",
       "8     a\n",
       "9     b\n",
       "10    c\n",
       "11    d\n",
       "12    e\n",
       "13    f\n",
       "14    i\n",
       "15    i\n",
       "16    c\n",
       "17    d\n",
       "dtype: object"
      ]
     },
     "execution_count": 102,
     "metadata": {},
     "output_type": "execute_result"
    }
   ],
   "source": [
    "# Write a Pandas program to replace missing white spaces in a given string with the least frequent character.\n",
    "lst = list('abc def abcdef icd')\n",
    "s1 = pd.Series(lst)\n",
    "print(s1)\n",
    "n = s1.value_counts()\n",
    "print(n)\n",
    "n[n == n.min()].index\n",
    "s1.apply(lambda x: n[n == n.min()].index[0] if x ==\" \" else x)\n"
   ]
  },
  {
   "cell_type": "code",
   "execution_count": 103,
   "metadata": {},
   "outputs": [
    {
     "data": {
      "text/plain": [
       "'Write a Pandas program to compute the autocorrelations of a given numeric series.\\nFrom Wikipedia:\\nAutocorrelation, also known as serial correlation, is the correlation of a signal with a\\ndelayed copy of itself as a function of delay. Informally, it is the similarity between\\nobservations as a function of the time lag between them.'"
      ]
     },
     "execution_count": 103,
     "metadata": {},
     "output_type": "execute_result"
    }
   ],
   "source": [
    "'''Write a Pandas program to compute the autocorrelations of a given numeric series.\n",
    "From Wikipedia:\n",
    "Autocorrelation, also known as serial correlation, is the correlation of a signal with a\n",
    "delayed copy of itself as a function of delay. Informally, it is the similarity between\n",
    "observations as a function of the time lag between them.'''"
   ]
  },
  {
   "cell_type": "code",
   "execution_count": 107,
   "metadata": {},
   "outputs": [
    {
     "name": "stdout",
     "output_type": "stream",
     "text": [
      "0     -7.466198\n",
      "1     30.198734\n",
      "2     -3.293598\n",
      "3     -2.887772\n",
      "4      7.372163\n",
      "5    -11.972583\n",
      "6     11.612214\n",
      "7     16.528788\n",
      "8     12.107477\n",
      "9     17.671856\n",
      "10    16.965541\n",
      "11     7.417242\n",
      "12    19.125620\n",
      "13    -0.671909\n",
      "14    18.904240\n",
      "dtype: float64\n",
      "\n",
      "Autocorrelations of the said series:\n",
      "[-0.3, 0.23, 0.29, -0.54, 0.21, 0.15, -0.4, 0.67, -0.14, -0.23]\n"
     ]
    }
   ],
   "source": [
    "num_series = pd.Series(np.arange(15) + np.random.normal(1, 10, 15))\n",
    "print(num_series)\n",
    "\n",
    "autocorrelations = [num_series.autocorr(i).round(2) for i in range(11)]\n",
    "print(\"\\nAutocorrelations of the said series:\")\n",
    "print(autocorrelations[1:])"
   ]
  },
  {
   "cell_type": "code",
   "execution_count": 108,
   "metadata": {},
   "outputs": [
    {
     "name": "stdout",
     "output_type": "stream",
     "text": [
      "All Sundays of 2019:\n",
      "0    2020-01-05\n",
      "1    2020-01-12\n",
      "2    2020-01-19\n",
      "3    2020-01-26\n",
      "4    2020-02-02\n",
      "5    2020-02-09\n",
      "6    2020-02-16\n",
      "7    2020-02-23\n",
      "8    2020-03-01\n",
      "9    2020-03-08\n",
      "10   2020-03-15\n",
      "11   2020-03-22\n",
      "12   2020-03-29\n",
      "13   2020-04-05\n",
      "14   2020-04-12\n",
      "15   2020-04-19\n",
      "16   2020-04-26\n",
      "17   2020-05-03\n",
      "18   2020-05-10\n",
      "19   2020-05-17\n",
      "20   2020-05-24\n",
      "21   2020-05-31\n",
      "22   2020-06-07\n",
      "23   2020-06-14\n",
      "24   2020-06-21\n",
      "25   2020-06-28\n",
      "26   2020-07-05\n",
      "27   2020-07-12\n",
      "28   2020-07-19\n",
      "29   2020-07-26\n",
      "30   2020-08-02\n",
      "31   2020-08-09\n",
      "32   2020-08-16\n",
      "33   2020-08-23\n",
      "34   2020-08-30\n",
      "35   2020-09-06\n",
      "36   2020-09-13\n",
      "37   2020-09-20\n",
      "38   2020-09-27\n",
      "39   2020-10-04\n",
      "40   2020-10-11\n",
      "41   2020-10-18\n",
      "42   2020-10-25\n",
      "43   2020-11-01\n",
      "44   2020-11-08\n",
      "45   2020-11-15\n",
      "46   2020-11-22\n",
      "47   2020-11-29\n",
      "48   2020-12-06\n",
      "49   2020-12-13\n",
      "50   2020-12-20\n",
      "51   2020-12-27\n",
      "dtype: datetime64[ns]\n"
     ]
    }
   ],
   "source": [
    "# 35. Write a Pandas program to create a TimeSeries to display all the Sundays of given year.\n",
    "\n",
    "result = pd.Series(pd.date_range('2020-01-01', periods=52, freq='W-SUN'))\n",
    "print(\"All Sundays of 2019:\")\n",
    "print(result)"
   ]
  },
  {
   "cell_type": "code",
   "execution_count": 130,
   "metadata": {},
   "outputs": [
    {
     "data": {
      "text/html": [
       "<div>\n",
       "<style scoped>\n",
       "    .dataframe tbody tr th:only-of-type {\n",
       "        vertical-align: middle;\n",
       "    }\n",
       "\n",
       "    .dataframe tbody tr th {\n",
       "        vertical-align: top;\n",
       "    }\n",
       "\n",
       "    .dataframe thead th {\n",
       "        text-align: right;\n",
       "    }\n",
       "</style>\n",
       "<table border=\"1\" class=\"dataframe\">\n",
       "  <thead>\n",
       "    <tr style=\"text-align: right;\">\n",
       "      <th></th>\n",
       "      <th>Index</th>\n",
       "      <th>0</th>\n",
       "    </tr>\n",
       "  </thead>\n",
       "  <tbody>\n",
       "    <tr>\n",
       "      <th>0</th>\n",
       "      <td>A</td>\n",
       "      <td>0</td>\n",
       "    </tr>\n",
       "    <tr>\n",
       "      <th>1</th>\n",
       "      <td>B</td>\n",
       "      <td>1</td>\n",
       "    </tr>\n",
       "    <tr>\n",
       "      <th>2</th>\n",
       "      <td>C</td>\n",
       "      <td>2</td>\n",
       "    </tr>\n",
       "    <tr>\n",
       "      <th>3</th>\n",
       "      <td>D</td>\n",
       "      <td>3</td>\n",
       "    </tr>\n",
       "    <tr>\n",
       "      <th>4</th>\n",
       "      <td>E</td>\n",
       "      <td>4</td>\n",
       "    </tr>\n",
       "    <tr>\n",
       "      <th>5</th>\n",
       "      <td>F</td>\n",
       "      <td>5</td>\n",
       "    </tr>\n",
       "    <tr>\n",
       "      <th>6</th>\n",
       "      <td>G</td>\n",
       "      <td>6</td>\n",
       "    </tr>\n",
       "    <tr>\n",
       "      <th>7</th>\n",
       "      <td>H</td>\n",
       "      <td>7</td>\n",
       "    </tr>\n",
       "  </tbody>\n",
       "</table>\n",
       "</div>"
      ],
      "text/plain": [
       "  Index  0\n",
       "0     A  0\n",
       "1     B  1\n",
       "2     C  2\n",
       "3     D  3\n",
       "4     E  4\n",
       "5     F  5\n",
       "6     G  6\n",
       "7     H  7"
      ]
     },
     "execution_count": 130,
     "metadata": {},
     "output_type": "execute_result"
    }
   ],
   "source": [
    "# 36. Write a Pandas program to convert given series into a dataframe with its index as another column on the dataframe.\n",
    "arr = np.arange(8)\n",
    "s1 = pd.Series(arr)\n",
    "df = pd.DataFrame({'Index': ['A', 'B', 'C', 'D', 'E', 'F', 'G', 'H'], '0':s1, })\n",
    "df"
   ]
  },
  {
   "cell_type": "code",
   "execution_count": 142,
   "metadata": {},
   "outputs": [
    {
     "data": {
      "text/html": [
       "<div>\n",
       "<style scoped>\n",
       "    .dataframe tbody tr th:only-of-type {\n",
       "        vertical-align: middle;\n",
       "    }\n",
       "\n",
       "    .dataframe tbody tr th {\n",
       "        vertical-align: top;\n",
       "    }\n",
       "\n",
       "    .dataframe thead th {\n",
       "        text-align: right;\n",
       "    }\n",
       "</style>\n",
       "<table border=\"1\" class=\"dataframe\">\n",
       "  <thead>\n",
       "    <tr style=\"text-align: right;\">\n",
       "      <th></th>\n",
       "      <th>0</th>\n",
       "      <th>1</th>\n",
       "    </tr>\n",
       "  </thead>\n",
       "  <tbody>\n",
       "    <tr>\n",
       "      <th>0</th>\n",
       "      <td>14</td>\n",
       "      <td>46</td>\n",
       "    </tr>\n",
       "    <tr>\n",
       "      <th>1</th>\n",
       "      <td>17</td>\n",
       "      <td>43</td>\n",
       "    </tr>\n",
       "    <tr>\n",
       "      <th>2</th>\n",
       "      <td>12</td>\n",
       "      <td>35</td>\n",
       "    </tr>\n",
       "    <tr>\n",
       "      <th>3</th>\n",
       "      <td>25</td>\n",
       "      <td>6</td>\n",
       "    </tr>\n",
       "    <tr>\n",
       "      <th>4</th>\n",
       "      <td>5</td>\n",
       "      <td>44</td>\n",
       "    </tr>\n",
       "    <tr>\n",
       "      <th>5</th>\n",
       "      <td>49</td>\n",
       "      <td>23</td>\n",
       "    </tr>\n",
       "    <tr>\n",
       "      <th>6</th>\n",
       "      <td>1</td>\n",
       "      <td>12</td>\n",
       "    </tr>\n",
       "    <tr>\n",
       "      <th>7</th>\n",
       "      <td>28</td>\n",
       "      <td>31</td>\n",
       "    </tr>\n",
       "    <tr>\n",
       "      <th>8</th>\n",
       "      <td>18</td>\n",
       "      <td>8</td>\n",
       "    </tr>\n",
       "    <tr>\n",
       "      <th>9</th>\n",
       "      <td>5</td>\n",
       "      <td>8</td>\n",
       "    </tr>\n",
       "    <tr>\n",
       "      <th>10</th>\n",
       "      <td>18</td>\n",
       "      <td>37</td>\n",
       "    </tr>\n",
       "    <tr>\n",
       "      <th>11</th>\n",
       "      <td>36</td>\n",
       "      <td>38</td>\n",
       "    </tr>\n",
       "    <tr>\n",
       "      <th>12</th>\n",
       "      <td>30</td>\n",
       "      <td>21</td>\n",
       "    </tr>\n",
       "    <tr>\n",
       "      <th>13</th>\n",
       "      <td>10</td>\n",
       "      <td>27</td>\n",
       "    </tr>\n",
       "    <tr>\n",
       "      <th>14</th>\n",
       "      <td>8</td>\n",
       "      <td>23</td>\n",
       "    </tr>\n",
       "  </tbody>\n",
       "</table>\n",
       "</div>"
      ],
      "text/plain": [
       "     0   1\n",
       "0   14  46\n",
       "1   17  43\n",
       "2   12  35\n",
       "3   25   6\n",
       "4    5  44\n",
       "5   49  23\n",
       "6    1  12\n",
       "7   28  31\n",
       "8   18   8\n",
       "9    5   8\n",
       "10  18  37\n",
       "11  36  38\n",
       "12  30  21\n",
       "13  10  27\n",
       "14   8  23"
      ]
     },
     "execution_count": 142,
     "metadata": {},
     "output_type": "execute_result"
    }
   ],
   "source": [
    "# 37. Write a Pandas program to stack two given series vertically and horizontally.\n",
    "\n",
    "\n",
    "num_series1 = pd.Series(np.random.randint(1, 50, [15]))\n",
    "num_series2 = pd.Series(np.random.randint(1, 50, [15]))\n",
    "pd.concat([num_series1, num_series2], axis=1)"
   ]
  },
  {
   "cell_type": "code",
   "execution_count": 143,
   "metadata": {},
   "outputs": [
    {
     "data": {
      "text/plain": [
       "0     14\n",
       "1     17\n",
       "2     12\n",
       "3     25\n",
       "4      5\n",
       "5     49\n",
       "6      1\n",
       "7     28\n",
       "8     18\n",
       "9      5\n",
       "10    18\n",
       "11    36\n",
       "12    30\n",
       "13    10\n",
       "14     8\n",
       "0     46\n",
       "1     43\n",
       "2     35\n",
       "3      6\n",
       "4     44\n",
       "5     23\n",
       "6     12\n",
       "7     31\n",
       "8      8\n",
       "9      8\n",
       "10    37\n",
       "11    38\n",
       "12    21\n",
       "13    27\n",
       "14    23\n",
       "dtype: int32"
      ]
     },
     "execution_count": 143,
     "metadata": {},
     "output_type": "execute_result"
    }
   ],
   "source": [
    "pd.concat([num_series1, num_series2], axis=0)"
   ]
  },
  {
   "cell_type": "code",
   "execution_count": 145,
   "metadata": {},
   "outputs": [
    {
     "name": "stdout",
     "output_type": "stream",
     "text": [
      "Original Series:\n",
      "0    1\n",
      "1    8\n",
      "2    7\n",
      "3    5\n",
      "4    6\n",
      "5    5\n",
      "6    3\n",
      "7    4\n",
      "8    7\n",
      "9    1\n",
      "dtype: int64\n",
      "0    1\n",
      "1    8\n",
      "2    7\n",
      "3    5\n",
      "4    6\n",
      "5    5\n",
      "6    3\n",
      "7    4\n",
      "8    7\n",
      "9    1\n",
      "dtype: int64\n",
      "Check 2 series are equal or not?\n",
      "0    True\n",
      "1    True\n",
      "2    True\n",
      "3    True\n",
      "4    True\n",
      "5    True\n",
      "6    True\n",
      "7    True\n",
      "8    True\n",
      "9    True\n",
      "dtype: bool\n"
     ]
    }
   ],
   "source": [
    "# 38. Write a Pandas program to check the equality of two given series.\n",
    "nums1 = pd.Series([1, 8, 7, 5, 6, 5, 3, 4, 7, 1])\n",
    "nums2 = pd.Series([1, 8, 7, 5, 6, 5, 3, 4, 7, 1])\n",
    "print(\"Original Series:\")\n",
    "print(nums1)\n",
    "print(nums2)\n",
    "print(\"Check 2 series are equal or not?\")\n",
    "print(nums1 == nums2)"
   ]
  },
  {
   "cell_type": "code",
   "execution_count": 149,
   "metadata": {},
   "outputs": [
    {
     "name": "stdout",
     "output_type": "stream",
     "text": [
      "0     46\n",
      "1     43\n",
      "2     35\n",
      "3      6\n",
      "4     44\n",
      "5     23\n",
      "6     12\n",
      "7     31\n",
      "8      8\n",
      "9      8\n",
      "10    37\n",
      "11    38\n",
      "12    21\n",
      "13    27\n",
      "14    23\n",
      "dtype: int32\n",
      " max value index number : 0\n",
      " min value index number : 3\n"
     ]
    }
   ],
   "source": [
    "#39. Write a Pandas program to find the index of the first occurrence of the smallest and largest value of a given series. \n",
    "num_series1 = pd.Series(np.random.randint(1, 50, [15]))\n",
    "print(num_series2)\n",
    "print(\" max value index number :\", num_series2.idxmax())\n",
    "print(\" min value index number :\", num_series2.idxmin())"
   ]
  },
  {
   "cell_type": "code",
   "execution_count": 151,
   "metadata": {},
   "outputs": [
    {
     "name": "stdout",
     "output_type": "stream",
     "text": [
      "Original DataFrame:\n",
      "      A     B   C   D\n",
      "0  68.0  78.0  84  86\n",
      "1  75.0  75.0  94  97\n",
      "2  86.0   NaN  89  96\n",
      "3  80.0  80.0  86  72\n",
      "4   NaN  86.0  86  83\n",
      "\n",
      "Original Series:\n",
      "0    68.0\n",
      "1    75.0\n",
      "2    86.0\n",
      "3    80.0\n",
      "4     NaN\n",
      "dtype: float64\n",
      "\n",
      "Check for inequality of the said series & dataframe:\n",
      "       A      B     C     D\n",
      "0  False   True  True  True\n",
      "1  False  False  True  True\n",
      "2  False   True  True  True\n",
      "3  False  False  True  True\n",
      "4   True   True  True  True\n"
     ]
    }
   ],
   "source": [
    "#40. Write a Pandas program to check inequality over the index axis of a given dataframe and a given series.\n",
    "\n",
    "df_data = pd.DataFrame({'A':[68,75,86,80,None],'B':[78,75,None,80,86], 'C':[84,94,89,86,86],'D':[86,97,96,72,83]});\n",
    "sr_data = pd.Series([68, 75, 86, 80, None]) \n",
    "print(\"Original DataFrame:\")\n",
    "print(df_data)\n",
    "print(\"\\nOriginal Series:\")\n",
    "print(sr_data)\n",
    "print(\"\\nCheck for inequality of the said series & dataframe:\")\n",
    "print(df_data.ne(sr_data, axis = 0))"
   ]
  },
  {
   "cell_type": "code",
   "execution_count": null,
   "metadata": {},
   "outputs": [],
   "source": []
  }
 ],
 "metadata": {
  "kernelspec": {
   "display_name": "base",
   "language": "python",
   "name": "python3"
  },
  "language_info": {
   "codemirror_mode": {
    "name": "ipython",
    "version": 3
   },
   "file_extension": ".py",
   "mimetype": "text/x-python",
   "name": "python",
   "nbconvert_exporter": "python",
   "pygments_lexer": "ipython3",
   "version": "3.11.7"
  }
 },
 "nbformat": 4,
 "nbformat_minor": 2
}
